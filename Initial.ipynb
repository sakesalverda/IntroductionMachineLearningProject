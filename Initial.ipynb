{
 "cells": [
  {
   "cell_type": "markdown",
   "id": "0c58ec3a",
   "metadata": {},
   "source": [
    "# Project"
   ]
  },
  {
   "cell_type": "code",
   "execution_count": 120,
   "id": "cdc2606f",
   "metadata": {},
   "outputs": [],
   "source": [
    "import numpy as np\n",
    "import pandas as pd\n",
    "import matplotlib.pyplot as plt\n",
    "# import datetime as dt\n",
    "from datetime import datetime"
   ]
  },
  {
   "cell_type": "code",
   "execution_count": 121,
   "id": "13dc4ddc",
   "metadata": {},
   "outputs": [],
   "source": [
    "def salaryDayInMonth(today, delta=0):\n",
    "    ### Returns the day in which salary payments take place in that month\n",
    "    # general salary date in Sweden is the 25th, except\n",
    "    # if 25th is a saturday, payment is on 24th\n",
    "    # if 25th is a sunday, payment is on 26th\n",
    "    \n",
    "    # Support the option to get the result for the previous month, which is needed\n",
    "    # when the current day is before the salary payment of that month\n",
    "    # e.g. on the 12th of Mar, the salary was on the 25th of Feb\n",
    "    if not (delta == 0 or delta == -1):\n",
    "        raise Exception(\"Unsupported value for delta give\")\n",
    "    \n",
    "    # If the previous month is selected for a today date in January, that is december in the previous year\n",
    "    deltaYear = 0\n",
    "    if today.month == 1 and delta == -1:\n",
    "        deltaYear = -1\n",
    "        delta = 11\n",
    "    \n",
    "    newDate = dt.datetime(today.year+deltaYear, today.month+delta, 25)\n",
    "    \n",
    "    if newDate.weekday() == 5:\n",
    "        newDate = newDate.replace(day=24)\n",
    "        # return 24\n",
    "    elif newDate.weekday() == 6:\n",
    "        newDate = newDate.replace(day=26)\n",
    "        # return 26\n",
    "        \n",
    "    return newDate\n",
    "    \n",
    "def daysFromSalary(today):\n",
    "    ### Calculate the days since the last salary payment\n",
    "    salary = salaryDayInMonth(today)\n",
    "    \n",
    "    delta = today - today\n",
    "    \n",
    "    if today.day > salary.day:\n",
    "        delta = today - salary\n",
    "    elif today.day < salary.day:\n",
    "        prevSalary = salaryDayInMonth(today, delta=-1)\n",
    "        delta = today - prevSalary\n",
    "        \n",
    "    return delta.days\n",
    "\n",
    "def season(today):\n",
    "    if today.month <= 1 and today.day <= 21:\n",
    "        return 0\n",
    "    if today.month <= 2:\n",
    "        return "
   ]
  },
  {
   "cell_type": "code",
   "execution_count": 124,
   "id": "3cfd5f3e",
   "metadata": {},
   "outputs": [
    {
     "name": "stdout",
     "output_type": "stream",
     "text": [
      "   Company          Sales  Year  Month  Day  Weekday  DaysFromSallary\n",
      "0        2  384775.195733  2023      1    4        2                9\n",
      "1        1   60815.193532  2023      1    4        2                9\n",
      "2        0   36221.562895  2023      1    4        2                9\n",
      "3        1   65686.415376  2023      1    3        1                8\n",
      "4        2  411655.230277  2023      1    3        1                8\n"
     ]
    }
   ],
   "source": [
    "df = pd.read_csv(\"caspecoTrainingData.csv\")\n",
    "# Date (yyyy-mm-dd)\n",
    "# Company [0, 1, 2]\n",
    "# Sales (Float)\n",
    "\n",
    "colsToDrop = [\"Date\"]\n",
    "\n",
    "\n",
    "colsToDrop.append(\"Datetime\")\n",
    "df[\"Datetime\"] = pd.to_datetime(df[\"Date\"], format=\"%Y-%m-%d\")\n",
    "\n",
    "df[\"Year\"] = df[\"Datetime\"].dt.year\n",
    "df[\"Month\"] = df[\"Datetime\"].dt.month\n",
    "df[\"Day\"] = df[\"Datetime\"].dt.day\n",
    "df[\"Weekday\"] = df[\"Datetime\"].dt.weekday\n",
    "\n",
    "# Calculate days from salary\n",
    "df[\"DaysFromSallary\"] = df[\"Datetime\"].apply(lambda dt: daysFromSalary(dt))\n",
    "\n",
    "# Include weather data\n",
    "# temperature, precipation, ...?\n",
    "\n",
    "# Include season?\n",
    "\n",
    "# Include special events?\n",
    "\n",
    "\n",
    "\n",
    "\n",
    "\n",
    "df = df.drop(colsToDrop, axis=1)\n",
    "\n",
    "print(df.head())"
   ]
  },
  {
   "cell_type": "code",
   "execution_count": null,
   "id": "7e2a9362",
   "metadata": {},
   "outputs": [],
   "source": [
    "from sklearn.metrics import r2_score\n",
    "\n",
    "# from sklearn.linear_model import LogisticRegression\n",
    "# LogisticRegression does not make sense since we want continuous output\n",
    "\n",
    "from sklearn.linear_model import LinearRegression"
   ]
  }
 ],
 "metadata": {
  "kernelspec": {
   "display_name": "Python 3 (ipykernel)",
   "language": "python",
   "name": "python3"
  },
  "language_info": {
   "codemirror_mode": {
    "name": "ipython",
    "version": 3
   },
   "file_extension": ".py",
   "mimetype": "text/x-python",
   "name": "python",
   "nbconvert_exporter": "python",
   "pygments_lexer": "ipython3",
   "version": "3.9.6"
  }
 },
 "nbformat": 4,
 "nbformat_minor": 5
}
