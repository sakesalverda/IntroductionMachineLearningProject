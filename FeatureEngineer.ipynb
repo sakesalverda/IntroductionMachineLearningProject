{
 "cells": [
  {
   "cell_type": "code",
   "execution_count": 67,
   "id": "65625985",
   "metadata": {},
   "outputs": [],
   "source": [
    "import numpy as np\n",
    "import pandas as pd\n",
    "import datetime as dt\n",
    "#from WeatherData.weatherPrecip import cleanPrecipData\n",
    "#from WeatherData.weatherTemp import cleanTempData\n",
    "from HolidayData.holiday import holiday# # "
   ]
  },
  {
   "cell_type": "code",
   "execution_count": null,
   "id": "d585c0de",
   "metadata": {},
   "outputs": [],
   "source": [
    "def _salaryDayInMonth(today, delta = 0):\n",
    "    ### Returns the day in which salary payments take place in that month\n",
    "    # general salary date in Sweden is the 25th, except\n",
    "    # if 25th is a saturday, payment is on 24th\n",
    "    # if 25th is a sunday, payment is on 26th\n",
    "    \n",
    "    # Support the option to get the result for the previous month, which is needed\n",
    "    # when the current day is before the salary payment of that month\n",
    "    # e.g. on the 12th of Mar, the salary was on the 25th of Feb\n",
    "    if not (delta == 0 or delta == -1):\n",
    "        raise Exception(\"Unsupported value for delta give\")\n",
    "    \n",
    "    # If the previous month is selected for a today date in January, that is december in the previous year\n",
    "    deltaYear = 0\n",
    "    if today.month == 1 and delta == -1:\n",
    "        deltaYear = -1\n",
    "        delta = 11\n",
    "    \n",
    "    newDate = dt.datetime(today.year+deltaYear, today.month+delta, 25)\n",
    "    \n",
    "    if newDate.weekday() == 5:\n",
    "        newDate = newDate.replace(day=24)\n",
    "        # return 24\n",
    "    elif newDate.weekday() == 6:\n",
    "        newDate = newDate.replace(day=26)\n",
    "        # return 26\n",
    "        \n",
    "    return newDate\n",
    "    \n",
    "def daysSinceSalary(today):\n",
    "    ### Calculate the days since the last salary payment\n",
    "    salary = _salaryDayInMonth(today)\n",
    "    \n",
    "    delta = today - today # small trick to make \"delta.days\" work if \"if\" and \"elif\" statement are both not executed\n",
    "    \n",
    "    if today.day > salary.day:\n",
    "        delta = today - salary\n",
    "    elif today.day < salary.day:\n",
    "        prevSalary = _salaryDayInMonth(today, delta=-1)\n",
    "        delta = today - prevSalary\n",
    "        \n",
    "    return delta.days"
   ]
  },
  {
   "cell_type": "code",
   "execution_count": 69,
   "id": "945a8e01",
   "metadata": {},
   "outputs": [],
   "source": [
    "def determineHoliday(dt, holidayData):\n",
    "    important_list = [\"New Year Day\", \"New Year Eve\", \"Christmas Eve\", \"Midsummer Day\"]\n",
    "\n",
    "    holidayLabel = holidayData[holidayData[\"Date\"] == dt]\n",
    "    print(holidayLabel)\n",
    "\n",
    "    return 0\n",
    "\n",
    "def getTemperature(dt, temperatureData):\n",
    "    tempData = cleanTempData()\n",
    "\n",
    "    return 20\n",
    "\n",
    "def getPrecipitation(dt, precipitationData):\n",
    "    precipData = cleanPrecipData()\n",
    "    \n",
    "    return 0"
   ]
  },
  {
   "cell_type": "code",
   "execution_count": 70,
   "id": "41e2c902",
   "metadata": {},
   "outputs": [],
   "source": [
    "def processDate(df):\n",
    "    # Convert into basic year, month, day and weekday\n",
    "    df[\"Date\"] = pd.to_datetime(df[\"Date\"], format = \"%Y-%m-%d\")\n",
    "    \n",
    "    df[\"Year\"] = df[\"Date\"].dt.year\n",
    "    df[\"Month\"] = df[\"Date\"].dt.month\n",
    "    df[\"Day\"] = df[\"Date\"].dt.day\n",
    "    df[\"Weekday\"] = df[\"Date\"].dt.weekday\n",
    "\n",
    "    # dayColumns = [\"Monday\", \"Tuesday\", \"Wednesday\", \"Thursday\", \"Friday\", \"Saturday\", \"Sunday\"]\n",
    "    # currentDayIndex = df[\"Date\"].dt.isoweekday()\n",
    "    # currentDayColumn = dayColumns[currentDayIndex]\n",
    "\n",
    "    # df[currentDayColumn] = 1\n",
    "    # df[dayColumns[~currentDayColumn]] = 0\n",
    "    \n",
    "    df[\"Monday\"] = df[\"Weekday\"] == 0\n",
    "    df[\"Tuesday\"] = df[\"Weekday\"] == 1\n",
    "    df[\"Wednesday\"] = df[\"Weekday\"] == 2\n",
    "    df[\"Thursday\"] = df[\"Weekday\"] == 3\n",
    "    df[\"Friday\"] = df[\"Weekday\"] == 4\n",
    "    df[\"Saturday\"] = df[\"Weekday\"] == 5\n",
    "    df[\"Sunday\"] = df[\"Weekday\"] == 6\n",
    "    \n",
    "    # Calculate days since last salary\n",
    "    df[\"DaysSinceSalary\"] = df[\"Date\"].apply(lambda dt: daysSinceSalary(dt))\n",
    "\n",
    "    #fdsfgds\n",
    "    df[\"Holiday\"] = df[\"Date\"].apply(lambda dt: determineHoliday(dt, holiday))\n",
    "    \n",
    "    # Determine season\n",
    "    # df[\"Season\"] = df[\"Date\"].apply(lambda dt: season(dt))\n",
    "    \n",
    "    # Include weather data\n",
    "    df[\"Temperature\"] = df[\"Date\"].apply(lambda dt: getTemperature(dt, None))\n",
    "    df[\"Precipitation\"] = df[\"Date\"].apply(lambda dt: getPrecipitation(dt, None))\n",
    "    \n",
    "    # Drop date column as the model should not use it\n",
    "    # df = df.drop([\"Date\"], axis = 1)\n",
    "    \n",
    "    # Sort the dataset, by date and by company\n",
    "    df.sort_values(by = [\"Date\", \"Company\"], inplace = True)\n",
    "\n",
    "    df = df.drop([\"Weekday\"])\n",
    "    \n",
    "    return df,"
   ]
  },
  {
   "cell_type": "code",
   "execution_count": 71,
   "id": "154a4d71",
   "metadata": {},
   "outputs": [],
   "source": [
    "def season(today):\n",
    "    # No clear implementation for season in Sweden yet\n",
    "    return "
   ]
  },
  {
   "cell_type": "code",
   "execution_count": 72,
   "id": "f94a24cf",
   "metadata": {},
   "outputs": [],
   "source": [
    "def addMissingDates(df, date_range):\n",
    "    ### Add NaN sales for dates that do not exist in current range\n",
    "    ### These values will later be filled\n",
    "    \n",
    "    # Loop over the three companies\n",
    "    for i in range(3):\n",
    "        # Find dates for which no values are given\n",
    "        missingDates = date_range.difference(df[df[\"Company\"] == i][\"Date\"])\n",
    "        \n",
    "        # Create a new dataframe, set the dates, sales and respective company\n",
    "        missingDatesDf = pd.DataFrame({\"Date\": missingDates})\n",
    "        missingDatesDf[\"Sales\"] = None\n",
    "        missingDatesDf[\"Company\"] = i\n",
    "        \n",
    "        # Add the new data to the main dataframe\n",
    "        df = pd.concat([df, missingDatesDf])\n",
    "    \n",
    "    return df"
   ]
  },
  {
   "cell_type": "code",
   "execution_count": 73,
   "id": "137c13e3",
   "metadata": {},
   "outputs": [
    {
     "ename": "TypeError",
     "evalue": "'function' object is not subscriptable",
     "output_type": "error",
     "traceback": [
      "\u001b[0;31m---------------------------------------------------------------------------\u001b[0m",
      "\u001b[0;31mTypeError\u001b[0m                                 Traceback (most recent call last)",
      "Cell \u001b[0;32mIn[73], line 16\u001b[0m\n\u001b[1;32m     12\u001b[0m \u001b[39m# test_df = pd.read_csv(test_set)\u001b[39;00m\n\u001b[1;32m     14\u001b[0m hist_df \u001b[39m=\u001b[39m addMissingDates(hist_df, date_range \u001b[39m=\u001b[39m salesRange) \u001b[39m# add missing dates\u001b[39;00m\n\u001b[0;32m---> 16\u001b[0m hist_df \u001b[39m=\u001b[39m processDate(hist_df) \u001b[39m# feature engineer with respect to date\u001b[39;00m\n\u001b[1;32m     17\u001b[0m \u001b[39m# test_df = processDate(test_df)\u001b[39;00m\n\u001b[1;32m     19\u001b[0m hist_x \u001b[39m=\u001b[39m hist_df\u001b[39m.\u001b[39mloc[:, hist_df\u001b[39m.\u001b[39mcolumns \u001b[39m!=\u001b[39m \u001b[39m\"\u001b[39m\u001b[39mSales\u001b[39m\u001b[39m\"\u001b[39m]\n",
      "Cell \u001b[0;32mIn[70], line 29\u001b[0m, in \u001b[0;36mprocessDate\u001b[0;34m(df)\u001b[0m\n\u001b[1;32m     26\u001b[0m df[\u001b[39m\"\u001b[39m\u001b[39mDaysSinceSalary\u001b[39m\u001b[39m\"\u001b[39m] \u001b[39m=\u001b[39m df[\u001b[39m\"\u001b[39m\u001b[39mDate\u001b[39m\u001b[39m\"\u001b[39m]\u001b[39m.\u001b[39mapply(\u001b[39mlambda\u001b[39;00m dt: daysSinceSalary(dt))\n\u001b[1;32m     28\u001b[0m \u001b[39m#fdsfgds\u001b[39;00m\n\u001b[0;32m---> 29\u001b[0m df[\u001b[39m\"\u001b[39m\u001b[39mHoliday\u001b[39m\u001b[39m\"\u001b[39m] \u001b[39m=\u001b[39m df[\u001b[39m\"\u001b[39;49m\u001b[39mDate\u001b[39;49m\u001b[39m\"\u001b[39;49m]\u001b[39m.\u001b[39;49mapply(\u001b[39mlambda\u001b[39;49;00m dt: determineHoliday(dt, holiday))\n\u001b[1;32m     31\u001b[0m \u001b[39m# Determine season\u001b[39;00m\n\u001b[1;32m     32\u001b[0m \u001b[39m# df[\"Season\"] = df[\"Date\"].apply(lambda dt: season(dt))\u001b[39;00m\n\u001b[1;32m     33\u001b[0m \n\u001b[1;32m     34\u001b[0m \u001b[39m# Include weather data\u001b[39;00m\n\u001b[1;32m     35\u001b[0m df[\u001b[39m\"\u001b[39m\u001b[39mTemperature\u001b[39m\u001b[39m\"\u001b[39m] \u001b[39m=\u001b[39m df[\u001b[39m\"\u001b[39m\u001b[39mDate\u001b[39m\u001b[39m\"\u001b[39m]\u001b[39m.\u001b[39mapply(\u001b[39mlambda\u001b[39;00m dt: getTemperature(dt, \u001b[39mNone\u001b[39;00m))\n",
      "File \u001b[0;32m~/.local/lib/python3.8/site-packages/pandas/core/series.py:4771\u001b[0m, in \u001b[0;36mSeries.apply\u001b[0;34m(self, func, convert_dtype, args, **kwargs)\u001b[0m\n\u001b[1;32m   4661\u001b[0m \u001b[39mdef\u001b[39;00m \u001b[39mapply\u001b[39m(\n\u001b[1;32m   4662\u001b[0m     \u001b[39mself\u001b[39m,\n\u001b[1;32m   4663\u001b[0m     func: AggFuncType,\n\u001b[0;32m   (...)\u001b[0m\n\u001b[1;32m   4666\u001b[0m     \u001b[39m*\u001b[39m\u001b[39m*\u001b[39mkwargs,\n\u001b[1;32m   4667\u001b[0m ) \u001b[39m-\u001b[39m\u001b[39m>\u001b[39m DataFrame \u001b[39m|\u001b[39m Series:\n\u001b[1;32m   4668\u001b[0m \u001b[39m    \u001b[39m\u001b[39m\"\"\"\u001b[39;00m\n\u001b[1;32m   4669\u001b[0m \u001b[39m    Invoke function on values of Series.\u001b[39;00m\n\u001b[1;32m   4670\u001b[0m \n\u001b[0;32m   (...)\u001b[0m\n\u001b[1;32m   4769\u001b[0m \u001b[39m    dtype: float64\u001b[39;00m\n\u001b[1;32m   4770\u001b[0m \u001b[39m    \"\"\"\u001b[39;00m\n\u001b[0;32m-> 4771\u001b[0m     \u001b[39mreturn\u001b[39;00m SeriesApply(\u001b[39mself\u001b[39;49m, func, convert_dtype, args, kwargs)\u001b[39m.\u001b[39;49mapply()\n",
      "File \u001b[0;32m~/.local/lib/python3.8/site-packages/pandas/core/apply.py:1123\u001b[0m, in \u001b[0;36mSeriesApply.apply\u001b[0;34m(self)\u001b[0m\n\u001b[1;32m   1120\u001b[0m     \u001b[39mreturn\u001b[39;00m \u001b[39mself\u001b[39m\u001b[39m.\u001b[39mapply_str()\n\u001b[1;32m   1122\u001b[0m \u001b[39m# self.f is Callable\u001b[39;00m\n\u001b[0;32m-> 1123\u001b[0m \u001b[39mreturn\u001b[39;00m \u001b[39mself\u001b[39;49m\u001b[39m.\u001b[39;49mapply_standard()\n",
      "File \u001b[0;32m~/.local/lib/python3.8/site-packages/pandas/core/apply.py:1174\u001b[0m, in \u001b[0;36mSeriesApply.apply_standard\u001b[0;34m(self)\u001b[0m\n\u001b[1;32m   1172\u001b[0m     \u001b[39melse\u001b[39;00m:\n\u001b[1;32m   1173\u001b[0m         values \u001b[39m=\u001b[39m obj\u001b[39m.\u001b[39mastype(\u001b[39mobject\u001b[39m)\u001b[39m.\u001b[39m_values\n\u001b[0;32m-> 1174\u001b[0m         mapped \u001b[39m=\u001b[39m lib\u001b[39m.\u001b[39;49mmap_infer(\n\u001b[1;32m   1175\u001b[0m             values,\n\u001b[1;32m   1176\u001b[0m             f,\n\u001b[1;32m   1177\u001b[0m             convert\u001b[39m=\u001b[39;49m\u001b[39mself\u001b[39;49m\u001b[39m.\u001b[39;49mconvert_dtype,\n\u001b[1;32m   1178\u001b[0m         )\n\u001b[1;32m   1180\u001b[0m \u001b[39mif\u001b[39;00m \u001b[39mlen\u001b[39m(mapped) \u001b[39mand\u001b[39;00m \u001b[39misinstance\u001b[39m(mapped[\u001b[39m0\u001b[39m], ABCSeries):\n\u001b[1;32m   1181\u001b[0m     \u001b[39m# GH#43986 Need to do list(mapped) in order to get treated as nested\u001b[39;00m\n\u001b[1;32m   1182\u001b[0m     \u001b[39m#  See also GH#25959 regarding EA support\u001b[39;00m\n\u001b[1;32m   1183\u001b[0m     \u001b[39mreturn\u001b[39;00m obj\u001b[39m.\u001b[39m_constructor_expanddim(\u001b[39mlist\u001b[39m(mapped), index\u001b[39m=\u001b[39mobj\u001b[39m.\u001b[39mindex)\n",
      "File \u001b[0;32m~/.local/lib/python3.8/site-packages/pandas/_libs/lib.pyx:2924\u001b[0m, in \u001b[0;36mpandas._libs.lib.map_infer\u001b[0;34m()\u001b[0m\n",
      "Cell \u001b[0;32mIn[70], line 29\u001b[0m, in \u001b[0;36mprocessDate.<locals>.<lambda>\u001b[0;34m(dt)\u001b[0m\n\u001b[1;32m     26\u001b[0m df[\u001b[39m\"\u001b[39m\u001b[39mDaysSinceSalary\u001b[39m\u001b[39m\"\u001b[39m] \u001b[39m=\u001b[39m df[\u001b[39m\"\u001b[39m\u001b[39mDate\u001b[39m\u001b[39m\"\u001b[39m]\u001b[39m.\u001b[39mapply(\u001b[39mlambda\u001b[39;00m dt: daysSinceSalary(dt))\n\u001b[1;32m     28\u001b[0m \u001b[39m#fdsfgds\u001b[39;00m\n\u001b[0;32m---> 29\u001b[0m df[\u001b[39m\"\u001b[39m\u001b[39mHoliday\u001b[39m\u001b[39m\"\u001b[39m] \u001b[39m=\u001b[39m df[\u001b[39m\"\u001b[39m\u001b[39mDate\u001b[39m\u001b[39m\"\u001b[39m]\u001b[39m.\u001b[39mapply(\u001b[39mlambda\u001b[39;00m dt: determineHoliday(dt, holiday))\n\u001b[1;32m     31\u001b[0m \u001b[39m# Determine season\u001b[39;00m\n\u001b[1;32m     32\u001b[0m \u001b[39m# df[\"Season\"] = df[\"Date\"].apply(lambda dt: season(dt))\u001b[39;00m\n\u001b[1;32m     33\u001b[0m \n\u001b[1;32m     34\u001b[0m \u001b[39m# Include weather data\u001b[39;00m\n\u001b[1;32m     35\u001b[0m df[\u001b[39m\"\u001b[39m\u001b[39mTemperature\u001b[39m\u001b[39m\"\u001b[39m] \u001b[39m=\u001b[39m df[\u001b[39m\"\u001b[39m\u001b[39mDate\u001b[39m\u001b[39m\"\u001b[39m]\u001b[39m.\u001b[39mapply(\u001b[39mlambda\u001b[39;00m dt: getTemperature(dt, \u001b[39mNone\u001b[39;00m))\n",
      "Cell \u001b[0;32mIn[69], line 4\u001b[0m, in \u001b[0;36mdetermineHoliday\u001b[0;34m(dt, holidayData)\u001b[0m\n\u001b[1;32m      1\u001b[0m \u001b[39mdef\u001b[39;00m \u001b[39mdetermineHoliday\u001b[39m(dt, holidayData):\n\u001b[1;32m      2\u001b[0m     important_list \u001b[39m=\u001b[39m [\u001b[39m\"\u001b[39m\u001b[39mNew Year Day\u001b[39m\u001b[39m\"\u001b[39m, \u001b[39m\"\u001b[39m\u001b[39mNew Year Eve\u001b[39m\u001b[39m\"\u001b[39m, \u001b[39m\"\u001b[39m\u001b[39mChristmas Eve\u001b[39m\u001b[39m\"\u001b[39m, \u001b[39m\"\u001b[39m\u001b[39mMidsummer Day\u001b[39m\u001b[39m\"\u001b[39m]\n\u001b[0;32m----> 4\u001b[0m     holidayLabel \u001b[39m=\u001b[39m holidayData[holidayData[\u001b[39m\"\u001b[39;49m\u001b[39mDate\u001b[39;49m\u001b[39m\"\u001b[39;49m] \u001b[39m==\u001b[39m dt]\n\u001b[1;32m      5\u001b[0m     \u001b[39mprint\u001b[39m(holidayLabel)\n\u001b[1;32m      7\u001b[0m     \u001b[39mreturn\u001b[39;00m \u001b[39m0\u001b[39m\n",
      "\u001b[0;31mTypeError\u001b[0m: 'function' object is not subscriptable"
     ]
    }
   ],
   "source": [
    "# The date range of the data\n",
    "salesRange = pd.date_range(start = \"2020-01-01\", end = \"2023-01-04\")\n",
    "\n",
    "# File names\n",
    "historical_set = \"caspecoHistoricalData.csv\"\n",
    "predict_set = \"caspecoTestRange.csv\"\n",
    "processed_set = \"caspecoHistoricalDataProcessed.csv\" # this file will include all the processed features\n",
    "\n",
    "\n",
    "\n",
    "hist_df = pd.read_csv(historical_set)\n",
    "# test_df = pd.read_csv(test_set)\n",
    "\n",
    "hist_df = addMissingDates(hist_df, date_range = salesRange) # add missing dates\n",
    "\n",
    "hist_df = processDate(hist_df) # feature engineer with respect to date\n",
    "# test_df = processDate(test_df)\n",
    "\n",
    "hist_x = hist_df.loc[:, hist_df.columns != \"Sales\"]\n",
    "hist_y = hist_df.loc[:, hist_df.columns == \"Sales\"]\n",
    "\n",
    "hist_df.to_csv(processed_set, index=False)\n",
    "\n",
    "# Just to get an overview of what the data currently looks like\n",
    "print(hist_x.head())\n",
    "#print(hist_y.head())"
   ]
  },
  {
   "cell_type": "code",
   "execution_count": null,
   "id": "7cc69362",
   "metadata": {
    "scrolled": false
   },
   "outputs": [],
   "source": []
  },
  {
   "cell_type": "code",
   "execution_count": null,
   "id": "bc6eec0c",
   "metadata": {
    "scrolled": false
   },
   "outputs": [],
   "source": []
  },
  {
   "cell_type": "code",
   "execution_count": null,
   "id": "849ed580",
   "metadata": {},
   "outputs": [],
   "source": [
    "missingSales = hist_x[hist_y[\"Sales\"].isnull()]\n",
    "\n",
    "print(f\"There are missing values for {len(missingSales['Date'].unique())} dates\\n\")\n",
    "# Missing values for \n",
    "for i in range(2):\n",
    "    print(f\"For company {i} the following dates are missing\")\n",
    "    print(missingSales[missingSales[\"Company\"] == i][\"Date\"])"
   ]
  },
  {
   "cell_type": "code",
   "execution_count": null,
   "id": "9a92379e",
   "metadata": {},
   "outputs": [],
   "source": []
  }
 ],
 "metadata": {
  "kernelspec": {
   "display_name": "Python 3",
   "language": "python",
   "name": "python3"
  },
  "language_info": {
   "codemirror_mode": {
    "name": "ipython",
    "version": 3
   },
   "file_extension": ".py",
   "mimetype": "text/x-python",
   "name": "python",
   "nbconvert_exporter": "python",
   "pygments_lexer": "ipython3",
   "version": "3.8.10"
  },
  "vscode": {
   "interpreter": {
    "hash": "916dbcbb3f70747c44a77c7bcd40155683ae19c65e1c03b4aa3499c5328201f1"
   }
  }
 },
 "nbformat": 4,
 "nbformat_minor": 5
}
