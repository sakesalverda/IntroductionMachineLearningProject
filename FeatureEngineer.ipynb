{
 "cells": [
  {
   "cell_type": "code",
   "execution_count": 1,
   "id": "65625985",
   "metadata": {},
   "outputs": [],
   "source": [
    "import numpy as np\n",
    "import pandas as pd\n",
    "import datetime as dt"
   ]
  },
  {
   "cell_type": "code",
   "execution_count": 34,
   "id": "d585c0de",
   "metadata": {},
   "outputs": [],
   "source": [
    "def _salaryDayInMonth(today, delta = 0):\n",
    "    ### Returns the day in which salary payments take place in that month\n",
    "    # general salary date in Sweden is the 25th, except\n",
    "    # if 25th is a saturday, payment is on 24th\n",
    "    # if 25th is a sunday, payment is on 26th\n",
    "    \n",
    "    # Support the option to get the result for the previous month, which is needed\n",
    "    # when the current day is before the salary payment of that month\n",
    "    # e.g. on the 12th of Mar, the salary was on the 25th of Feb\n",
    "    if not (delta == 0 or delta == -1):\n",
    "        raise Exception(\"Unsupported value for delta give\")\n",
    "    \n",
    "    # If the previous month is selected for a today date in January, that is december in the previous year\n",
    "    deltaYear = 0\n",
    "    if today.month == 1 and delta == -1:\n",
    "        deltaYear = -1\n",
    "        delta = 11\n",
    "    \n",
    "    newDate = dt.datetime(today.year+deltaYear, today.month+delta, 25)\n",
    "    \n",
    "    if newDate.weekday() == 5:\n",
    "        newDate = newDate.replace(day=24)\n",
    "        # return 24\n",
    "    elif newDate.weekday() == 6:\n",
    "        newDate = newDate.replace(day=26)\n",
    "        # return 26\n",
    "        \n",
    "    return newDate\n",
    "    \n",
    "def daysSinceSalary(today):\n",
    "    ### Calculate the days since the last salary payment\n",
    "    salary = _salaryDayInMonth(today)\n",
    "    \n",
    "    delta = today - today # small trick to make \"delta.days\" work if \"if\" and \"elif\" statement are both not executed\n",
    "    \n",
    "    if today.day > salary.day:\n",
    "        delta = today - salary\n",
    "    elif today.day < salary.day:\n",
    "        prevSalary = _salaryDayInMonth(today, delta=-1)\n",
    "        delta = today - prevSalary\n",
    "        \n",
    "    return delta.days"
   ]
  },
  {
   "cell_type": "code",
   "execution_count": 35,
   "id": "41e2c902",
   "metadata": {},
   "outputs": [],
   "source": [
    "def processDate(df):\n",
    "    # Convert into basic year, month, day and weekday\n",
    "    df[\"Date\"] = pd.to_datetime(df[\"Date\"], format = \"%Y-%m-%d\")\n",
    "    \n",
    "    df[\"Year\"] = df[\"Date\"].dt.year\n",
    "    df[\"Month\"] = df[\"Date\"].dt.month\n",
    "    df[\"Day\"] = df[\"Date\"].dt.day\n",
    "    df[\"Weekday\"] = df[\"Date\"].dt.weekday\n",
    "    \n",
    "    # Calculate days since last salary\n",
    "    df[\"DaysSinceSalary\"] = df[\"Date\"].apply(lambda dt: daysSinceSalary(dt))\n",
    "    \n",
    "    # Determine season\n",
    "    # df[\"Season\"] = df[\"Date\"].apply(lambda dt: season(dt))\n",
    "    \n",
    "    # Include weather data\n",
    "    # df[\"Temp...\"]\n",
    "    \n",
    "    # Drop date column as the model should not use it\n",
    "    # df = df.drop([\"Date\"], axis = 1)\n",
    "    \n",
    "    return df"
   ]
  },
  {
   "cell_type": "code",
   "execution_count": 28,
   "id": "154a4d71",
   "metadata": {},
   "outputs": [],
   "source": [
    "def season(today):\n",
    "    # No clear implementation for season in Sweden yet\n",
    "    return "
   ]
  },
  {
   "cell_type": "code",
   "execution_count": 29,
   "id": "f94a24cf",
   "metadata": {},
   "outputs": [],
   "source": [
    "def addMissingDates(df, date_range):\n",
    "    ### Add NaN sales for dates that do not exist in current range\n",
    "    ### These values will later be filled\n",
    "    \n",
    "    # Loop over the three companies\n",
    "    for i in range(3):\n",
    "        # Find dates for which no values are given\n",
    "        missingDates = date_range.difference(df[df[\"Company\"] == i][\"Date\"])\n",
    "        \n",
    "        # Create a new dataframe, set the dates, sales and respective company\n",
    "        missingDatesDf = pd.DataFrame({\"Date\": missingDates})\n",
    "        missingDatesDf[\"Sales\"] = None\n",
    "        missingDatesDf[\"Company\"] = i\n",
    "        \n",
    "        # Add the new data to the main dataframe\n",
    "        df = pd.concat([df, missingDatesDf])\n",
    "    \n",
    "    return df"
   ]
  },
  {
   "cell_type": "code",
   "execution_count": 32,
   "id": "137c13e3",
   "metadata": {},
   "outputs": [
    {
     "name": "stdout",
     "output_type": "stream",
     "text": [
      "           Date  Company  Year  Month  Day  Weekday  DaysSinceSalary\n",
      "0    2020-01-01        0  2020      1    1        2                7\n",
      "0    2020-01-01        1  2020      1    1        2                7\n",
      "3084 2020-01-01        2  2020      1    1        2                7\n",
      "3083 2020-01-02        0  2020      1    2        3                8\n",
      "3082 2020-01-02        1  2020      1    2        3                8\n",
      "             Sales\n",
      "0              NaN\n",
      "0              NaN\n",
      "3084  72608.623649\n",
      "3083  25421.830339\n",
      "3082  57957.790779\n"
     ]
    }
   ],
   "source": [
    "# The date range of the data\n",
    "salesRange = pd.date_range(start = \"2020-01-01\", end = \"2023-01-04\")\n",
    "\n",
    "# File names\n",
    "historical_set = \"caspecoHistoricalData.csv\"\n",
    "predict_set = \"caspecoTestRange.csv\"\n",
    "processed_set = \"caspecoHistoricalDataProcessed.csv\" # this file will include all the processed features\n",
    "\n",
    "\n",
    "\n",
    "hist_df = pd.read_csv(historical_set)\n",
    "# test_df = pd.read_csv(test_set)\n",
    "\n",
    "hist_df = addMissingDates(hist_df, date_range = salesRange) # add missing dates\n",
    "\n",
    "hist_df = processDate(hist_df) # feature engineer with respect to date\n",
    "# test_df = processDate(test_df)\n",
    "\n",
    "# Sort the dataset, by date and by company\n",
    "hist_df.sort_values(by = [\"Date\", \"Company\"], inplace = True)\n",
    "\n",
    "hist_x = hist_df.loc[:, hist_df.columns != \"Sales\"]\n",
    "hist_y = hist_df.loc[:, hist_df.columns == \"Sales\"]\n",
    "\n",
    "hist_df.to_csv(processed_set, index=False)\n",
    "\n",
    "# Just to get an overview of what the data currently looks like\n",
    "print(hist_x.head())\n",
    "print(hist_y.head())"
   ]
  },
  {
   "cell_type": "code",
   "execution_count": null,
   "id": "7cc69362",
   "metadata": {
    "scrolled": false
   },
   "outputs": [],
   "source": []
  },
  {
   "cell_type": "code",
   "execution_count": null,
   "id": "bc6eec0c",
   "metadata": {
    "scrolled": false
   },
   "outputs": [],
   "source": []
  },
  {
   "cell_type": "code",
   "execution_count": 33,
   "id": "849ed580",
   "metadata": {},
   "outputs": [
    {
     "name": "stdout",
     "output_type": "stream",
     "text": [
      "There are missing values for 194 dates\n",
      "\n",
      "For company 0 the following dates are missing\n",
      "0     2020-01-01\n",
      "1     2020-04-12\n",
      "2     2020-06-19\n",
      "3     2020-06-20\n",
      "4     2020-06-21\n",
      "         ...    \n",
      "105   2022-09-30\n",
      "106   2022-12-13\n",
      "107   2022-12-24\n",
      "108   2022-12-26\n",
      "109   2023-01-01\n",
      "Name: Date, Length: 110, dtype: datetime64[ns]\n",
      "For company 1 the following dates are missing\n",
      "0     2020-01-01\n",
      "1     2020-06-19\n",
      "2     2020-08-03\n",
      "3     2020-08-04\n",
      "4     2020-08-05\n",
      "         ...    \n",
      "100   2022-07-06\n",
      "101   2022-07-07\n",
      "102   2022-07-08\n",
      "103   2022-12-24\n",
      "104   2022-12-31\n",
      "Name: Date, Length: 105, dtype: datetime64[ns]\n"
     ]
    }
   ],
   "source": [
    "missingSales = hist_x[hist_y[\"Sales\"].isnull()]\n",
    "\n",
    "print(f\"There are missing values for {len(missingSales['Date'].unique())} dates\\n\")\n",
    "# Missing values for \n",
    "for i in range(2):\n",
    "    print(f\"For company {i} the following dates are missing\")\n",
    "    print(missingSales[missingSales[\"Company\"] == i][\"Date\"])"
   ]
  },
  {
   "cell_type": "code",
   "execution_count": null,
   "id": "9a92379e",
   "metadata": {},
   "outputs": [],
   "source": []
  }
 ],
 "metadata": {
  "kernelspec": {
   "display_name": "Python 3 (ipykernel)",
   "language": "python",
   "name": "python3"
  },
  "language_info": {
   "codemirror_mode": {
    "name": "ipython",
    "version": 3
   },
   "file_extension": ".py",
   "mimetype": "text/x-python",
   "name": "python",
   "nbconvert_exporter": "python",
   "pygments_lexer": "ipython3",
   "version": "3.9.6"
  }
 },
 "nbformat": 4,
 "nbformat_minor": 5
}
